{
  "nbformat": 4,
  "nbformat_minor": 0,
  "metadata": {
    "colab": {
      "provenance": [],
      "authorship_tag": "ABX9TyO/h6nnwvvZBmOgGFjaKjDB",
      "include_colab_link": true
    },
    "kernelspec": {
      "name": "python3",
      "display_name": "Python 3"
    },
    "language_info": {
      "name": "python"
    }
  },
  "cells": [
    {
      "cell_type": "markdown",
      "metadata": {
        "id": "view-in-github",
        "colab_type": "text"
      },
      "source": [
        "<a href=\"https://colab.research.google.com/github/raziyasultan/AI_ML_internship/blob/main/Task3.ipynb\" target=\"_parent\"><img src=\"https://colab.research.google.com/assets/colab-badge.svg\" alt=\"Open In Colab\"/></a>"
      ]
    },
    {
      "cell_type": "markdown",
      "source": [
        "**Importing Modules**"
      ],
      "metadata": {
        "id": "cKnGrfxVJqVV"
      }
    },
    {
      "cell_type": "code",
      "source": [
        "import numpy as np\n",
        "import pandas as pd\n",
        "import seaborn as sns\n",
        "import matplotlib.pyplot as plt"
      ],
      "metadata": {
        "id": "VpR58UzYJuTV"
      },
      "execution_count": 77,
      "outputs": []
    },
    {
      "cell_type": "markdown",
      "source": [
        "**Connecting drive and google colab**"
      ],
      "metadata": {
        "id": "rqb71UXNKISc"
      }
    },
    {
      "cell_type": "code",
      "source": [
        "from google.colab import drive\n",
        "drive.mount('/content/drive')"
      ],
      "metadata": {
        "colab": {
          "base_uri": "https://localhost:8080/"
        },
        "id": "2fiNXu88J4p0",
        "outputId": "7abf3de3-4a86-4cb6-aff5-f7a55e687f4d"
      },
      "execution_count": 78,
      "outputs": [
        {
          "output_type": "stream",
          "name": "stdout",
          "text": [
            "Drive already mounted at /content/drive; to attempt to forcibly remount, call drive.mount(\"/content/drive\", force_remount=True).\n"
          ]
        }
      ]
    },
    {
      "cell_type": "markdown",
      "source": [
        "**Interquartile Range (IQR):**\n",
        "\n",
        "**The interquartile range is a measure of statistical dispersion, or in simple terms, it represents the spread of the middle 50% of a dataset. It is calculated as the difference between the third quartile (Q3) and the first quartile (Q1). Mathematically, IQR = Q3 - Q1. The IQR is less sensitive to outliers than the range and provides a more robust measure of variability.**"
      ],
      "metadata": {
        "id": "L5g1XqgdKlfS"
      }
    },
    {
      "cell_type": "markdown",
      "source": [
        "**Range**  is the difference between the maximum and minimum values and provides a broad sense of the spread of the entire dataset. However, it can be heavily influenced by outliers.\n",
        "\n",
        "**Interquartile Range (IQR)** focuses on the middle 50% of the data, making it less sensitive to extreme values. It is a robust measure of variability and is particularly useful when the dataset contains outliers.\n"
      ],
      "metadata": {
        "id": "dxyetsYBYnOa"
      }
    },
    {
      "cell_type": "markdown",
      "source": [
        "**Skewness:**\n",
        "\n",
        "**Skewness is a measure of the asymmetry of the probability distribution of a real-valued random variable. A negative skewness indicates that the distribution of the data is skewed to the left (tail on the left side is longer or fatter), while a positive skewness indicates a skew to the right (tail on the right side is longer or fatter). The skewness value can range from negative infinity to positive infinity, with zero indicating a perfectly symmetrical distribution.**"
      ],
      "metadata": {
        "id": "oOWkhVClOTmB"
      }
    },
    {
      "cell_type": "markdown",
      "source": [
        "**As the skew ness is positive we can say that it is skewed to the right side(positive skewness).This can also be observed from the boxplot as the length of whiskers is more in right side. This can also be observed using quartile differences alse.**"
      ],
      "metadata": {
        "id": "dQ5yJGIo0VG-"
      }
    },
    {
      "cell_type": "markdown",
      "source": [
        "**Kurtosis:**\n",
        "\n",
        "**Kurtosis is a measure of the \"tailedness\" of the probability distribution of a real-valued random variable. It describes the shape of the distribution's tails in relation to the normal distribution. Positive kurtosis (leptokurtic) indicates it is having peake more than the normal distribution, while negative kurtosis (platykurtic) indicates it is flatened than normal distribution . A kurtosis of 0 (mesokurtic) implies that it is similar to a normal distribution.**"
      ],
      "metadata": {
        "id": "VltuF7QuPijj"
      }
    },
    {
      "cell_type": "markdown",
      "source": [
        "**Loading Dataset 2**"
      ],
      "metadata": {
        "id": "qsouscUoFOk6"
      }
    },
    {
      "cell_type": "code",
      "source": [
        "import pandas as pd\n",
        "df1 = pd.read_csv('/content/drive/MyDrive/Electric_Vehicle_Population_Data.csv')"
      ],
      "metadata": {
        "id": "CFt9aAzhDqPK"
      },
      "execution_count": 79,
      "outputs": []
    },
    {
      "cell_type": "code",
      "source": [
        "df1.describe()"
      ],
      "metadata": {
        "colab": {
          "base_uri": "https://localhost:8080/",
          "height": 300
        },
        "id": "bgF-HoWFDul_",
        "outputId": "7c9daacb-4e10-457e-ad52-442195253dd5"
      },
      "execution_count": 80,
      "outputs": [
        {
          "output_type": "execute_result",
          "data": {
            "text/plain": [
              "         Postal Code     Model Year  Electric Range      Base MSRP  \\\n",
              "count  162999.000000  163003.000000   163003.000000  163003.000000   \n",
              "mean    98170.717422    2020.258449       63.382183    1198.344632   \n",
              "std      2467.998984       3.005057       94.323062    8825.505678   \n",
              "min      1730.000000    1997.000000        0.000000       0.000000   \n",
              "25%     98052.000000    2018.000000        0.000000       0.000000   \n",
              "50%     98122.000000    2021.000000       13.000000       0.000000   \n",
              "75%     98370.000000    2023.000000       84.000000       0.000000   \n",
              "max     99577.000000    2024.000000      337.000000  845000.000000   \n",
              "\n",
              "       Legislative District  DOL Vehicle ID  2020 Census Tract  \n",
              "count         162637.000000    1.630030e+05       1.629990e+05  \n",
              "mean              29.226861    2.153918e+08       5.297368e+10  \n",
              "std               14.841717    7.874180e+07       1.612977e+09  \n",
              "min                1.000000    4.385000e+03       1.081042e+09  \n",
              "25%               18.000000    1.762441e+08       5.303301e+10  \n",
              "50%               33.000000    2.209718e+08       5.303303e+10  \n",
              "75%               42.000000    2.495753e+08       5.305307e+10  \n",
              "max               49.000000    4.792548e+08       5.603300e+10  "
            ],
            "text/html": [
              "\n",
              "  <div id=\"df-87164a09-fa07-4d02-b8f9-b953926d9525\" class=\"colab-df-container\">\n",
              "    <div>\n",
              "<style scoped>\n",
              "    .dataframe tbody tr th:only-of-type {\n",
              "        vertical-align: middle;\n",
              "    }\n",
              "\n",
              "    .dataframe tbody tr th {\n",
              "        vertical-align: top;\n",
              "    }\n",
              "\n",
              "    .dataframe thead th {\n",
              "        text-align: right;\n",
              "    }\n",
              "</style>\n",
              "<table border=\"1\" class=\"dataframe\">\n",
              "  <thead>\n",
              "    <tr style=\"text-align: right;\">\n",
              "      <th></th>\n",
              "      <th>Postal Code</th>\n",
              "      <th>Model Year</th>\n",
              "      <th>Electric Range</th>\n",
              "      <th>Base MSRP</th>\n",
              "      <th>Legislative District</th>\n",
              "      <th>DOL Vehicle ID</th>\n",
              "      <th>2020 Census Tract</th>\n",
              "    </tr>\n",
              "  </thead>\n",
              "  <tbody>\n",
              "    <tr>\n",
              "      <th>count</th>\n",
              "      <td>162999.000000</td>\n",
              "      <td>163003.000000</td>\n",
              "      <td>163003.000000</td>\n",
              "      <td>163003.000000</td>\n",
              "      <td>162637.000000</td>\n",
              "      <td>1.630030e+05</td>\n",
              "      <td>1.629990e+05</td>\n",
              "    </tr>\n",
              "    <tr>\n",
              "      <th>mean</th>\n",
              "      <td>98170.717422</td>\n",
              "      <td>2020.258449</td>\n",
              "      <td>63.382183</td>\n",
              "      <td>1198.344632</td>\n",
              "      <td>29.226861</td>\n",
              "      <td>2.153918e+08</td>\n",
              "      <td>5.297368e+10</td>\n",
              "    </tr>\n",
              "    <tr>\n",
              "      <th>std</th>\n",
              "      <td>2467.998984</td>\n",
              "      <td>3.005057</td>\n",
              "      <td>94.323062</td>\n",
              "      <td>8825.505678</td>\n",
              "      <td>14.841717</td>\n",
              "      <td>7.874180e+07</td>\n",
              "      <td>1.612977e+09</td>\n",
              "    </tr>\n",
              "    <tr>\n",
              "      <th>min</th>\n",
              "      <td>1730.000000</td>\n",
              "      <td>1997.000000</td>\n",
              "      <td>0.000000</td>\n",
              "      <td>0.000000</td>\n",
              "      <td>1.000000</td>\n",
              "      <td>4.385000e+03</td>\n",
              "      <td>1.081042e+09</td>\n",
              "    </tr>\n",
              "    <tr>\n",
              "      <th>25%</th>\n",
              "      <td>98052.000000</td>\n",
              "      <td>2018.000000</td>\n",
              "      <td>0.000000</td>\n",
              "      <td>0.000000</td>\n",
              "      <td>18.000000</td>\n",
              "      <td>1.762441e+08</td>\n",
              "      <td>5.303301e+10</td>\n",
              "    </tr>\n",
              "    <tr>\n",
              "      <th>50%</th>\n",
              "      <td>98122.000000</td>\n",
              "      <td>2021.000000</td>\n",
              "      <td>13.000000</td>\n",
              "      <td>0.000000</td>\n",
              "      <td>33.000000</td>\n",
              "      <td>2.209718e+08</td>\n",
              "      <td>5.303303e+10</td>\n",
              "    </tr>\n",
              "    <tr>\n",
              "      <th>75%</th>\n",
              "      <td>98370.000000</td>\n",
              "      <td>2023.000000</td>\n",
              "      <td>84.000000</td>\n",
              "      <td>0.000000</td>\n",
              "      <td>42.000000</td>\n",
              "      <td>2.495753e+08</td>\n",
              "      <td>5.305307e+10</td>\n",
              "    </tr>\n",
              "    <tr>\n",
              "      <th>max</th>\n",
              "      <td>99577.000000</td>\n",
              "      <td>2024.000000</td>\n",
              "      <td>337.000000</td>\n",
              "      <td>845000.000000</td>\n",
              "      <td>49.000000</td>\n",
              "      <td>4.792548e+08</td>\n",
              "      <td>5.603300e+10</td>\n",
              "    </tr>\n",
              "  </tbody>\n",
              "</table>\n",
              "</div>\n",
              "    <div class=\"colab-df-buttons\">\n",
              "\n",
              "  <div class=\"colab-df-container\">\n",
              "    <button class=\"colab-df-convert\" onclick=\"convertToInteractive('df-87164a09-fa07-4d02-b8f9-b953926d9525')\"\n",
              "            title=\"Convert this dataframe to an interactive table.\"\n",
              "            style=\"display:none;\">\n",
              "\n",
              "  <svg xmlns=\"http://www.w3.org/2000/svg\" height=\"24px\" viewBox=\"0 -960 960 960\">\n",
              "    <path d=\"M120-120v-720h720v720H120Zm60-500h600v-160H180v160Zm220 220h160v-160H400v160Zm0 220h160v-160H400v160ZM180-400h160v-160H180v160Zm440 0h160v-160H620v160ZM180-180h160v-160H180v160Zm440 0h160v-160H620v160Z\"/>\n",
              "  </svg>\n",
              "    </button>\n",
              "\n",
              "  <style>\n",
              "    .colab-df-container {\n",
              "      display:flex;\n",
              "      gap: 12px;\n",
              "    }\n",
              "\n",
              "    .colab-df-convert {\n",
              "      background-color: #E8F0FE;\n",
              "      border: none;\n",
              "      border-radius: 50%;\n",
              "      cursor: pointer;\n",
              "      display: none;\n",
              "      fill: #1967D2;\n",
              "      height: 32px;\n",
              "      padding: 0 0 0 0;\n",
              "      width: 32px;\n",
              "    }\n",
              "\n",
              "    .colab-df-convert:hover {\n",
              "      background-color: #E2EBFA;\n",
              "      box-shadow: 0px 1px 2px rgba(60, 64, 67, 0.3), 0px 1px 3px 1px rgba(60, 64, 67, 0.15);\n",
              "      fill: #174EA6;\n",
              "    }\n",
              "\n",
              "    .colab-df-buttons div {\n",
              "      margin-bottom: 4px;\n",
              "    }\n",
              "\n",
              "    [theme=dark] .colab-df-convert {\n",
              "      background-color: #3B4455;\n",
              "      fill: #D2E3FC;\n",
              "    }\n",
              "\n",
              "    [theme=dark] .colab-df-convert:hover {\n",
              "      background-color: #434B5C;\n",
              "      box-shadow: 0px 1px 3px 1px rgba(0, 0, 0, 0.15);\n",
              "      filter: drop-shadow(0px 1px 2px rgba(0, 0, 0, 0.3));\n",
              "      fill: #FFFFFF;\n",
              "    }\n",
              "  </style>\n",
              "\n",
              "    <script>\n",
              "      const buttonEl =\n",
              "        document.querySelector('#df-87164a09-fa07-4d02-b8f9-b953926d9525 button.colab-df-convert');\n",
              "      buttonEl.style.display =\n",
              "        google.colab.kernel.accessAllowed ? 'block' : 'none';\n",
              "\n",
              "      async function convertToInteractive(key) {\n",
              "        const element = document.querySelector('#df-87164a09-fa07-4d02-b8f9-b953926d9525');\n",
              "        const dataTable =\n",
              "          await google.colab.kernel.invokeFunction('convertToInteractive',\n",
              "                                                    [key], {});\n",
              "        if (!dataTable) return;\n",
              "\n",
              "        const docLinkHtml = 'Like what you see? Visit the ' +\n",
              "          '<a target=\"_blank\" href=https://colab.research.google.com/notebooks/data_table.ipynb>data table notebook</a>'\n",
              "          + ' to learn more about interactive tables.';\n",
              "        element.innerHTML = '';\n",
              "        dataTable['output_type'] = 'display_data';\n",
              "        await google.colab.output.renderOutput(dataTable, element);\n",
              "        const docLink = document.createElement('div');\n",
              "        docLink.innerHTML = docLinkHtml;\n",
              "        element.appendChild(docLink);\n",
              "      }\n",
              "    </script>\n",
              "  </div>\n",
              "\n",
              "\n",
              "<div id=\"df-7295d6cc-02a5-41b1-a1d6-b213ed3a93bc\">\n",
              "  <button class=\"colab-df-quickchart\" onclick=\"quickchart('df-7295d6cc-02a5-41b1-a1d6-b213ed3a93bc')\"\n",
              "            title=\"Suggest charts\"\n",
              "            style=\"display:none;\">\n",
              "\n",
              "<svg xmlns=\"http://www.w3.org/2000/svg\" height=\"24px\"viewBox=\"0 0 24 24\"\n",
              "     width=\"24px\">\n",
              "    <g>\n",
              "        <path d=\"M19 3H5c-1.1 0-2 .9-2 2v14c0 1.1.9 2 2 2h14c1.1 0 2-.9 2-2V5c0-1.1-.9-2-2-2zM9 17H7v-7h2v7zm4 0h-2V7h2v10zm4 0h-2v-4h2v4z\"/>\n",
              "    </g>\n",
              "</svg>\n",
              "  </button>\n",
              "\n",
              "<style>\n",
              "  .colab-df-quickchart {\n",
              "      --bg-color: #E8F0FE;\n",
              "      --fill-color: #1967D2;\n",
              "      --hover-bg-color: #E2EBFA;\n",
              "      --hover-fill-color: #174EA6;\n",
              "      --disabled-fill-color: #AAA;\n",
              "      --disabled-bg-color: #DDD;\n",
              "  }\n",
              "\n",
              "  [theme=dark] .colab-df-quickchart {\n",
              "      --bg-color: #3B4455;\n",
              "      --fill-color: #D2E3FC;\n",
              "      --hover-bg-color: #434B5C;\n",
              "      --hover-fill-color: #FFFFFF;\n",
              "      --disabled-bg-color: #3B4455;\n",
              "      --disabled-fill-color: #666;\n",
              "  }\n",
              "\n",
              "  .colab-df-quickchart {\n",
              "    background-color: var(--bg-color);\n",
              "    border: none;\n",
              "    border-radius: 50%;\n",
              "    cursor: pointer;\n",
              "    display: none;\n",
              "    fill: var(--fill-color);\n",
              "    height: 32px;\n",
              "    padding: 0;\n",
              "    width: 32px;\n",
              "  }\n",
              "\n",
              "  .colab-df-quickchart:hover {\n",
              "    background-color: var(--hover-bg-color);\n",
              "    box-shadow: 0 1px 2px rgba(60, 64, 67, 0.3), 0 1px 3px 1px rgba(60, 64, 67, 0.15);\n",
              "    fill: var(--button-hover-fill-color);\n",
              "  }\n",
              "\n",
              "  .colab-df-quickchart-complete:disabled,\n",
              "  .colab-df-quickchart-complete:disabled:hover {\n",
              "    background-color: var(--disabled-bg-color);\n",
              "    fill: var(--disabled-fill-color);\n",
              "    box-shadow: none;\n",
              "  }\n",
              "\n",
              "  .colab-df-spinner {\n",
              "    border: 2px solid var(--fill-color);\n",
              "    border-color: transparent;\n",
              "    border-bottom-color: var(--fill-color);\n",
              "    animation:\n",
              "      spin 1s steps(1) infinite;\n",
              "  }\n",
              "\n",
              "  @keyframes spin {\n",
              "    0% {\n",
              "      border-color: transparent;\n",
              "      border-bottom-color: var(--fill-color);\n",
              "      border-left-color: var(--fill-color);\n",
              "    }\n",
              "    20% {\n",
              "      border-color: transparent;\n",
              "      border-left-color: var(--fill-color);\n",
              "      border-top-color: var(--fill-color);\n",
              "    }\n",
              "    30% {\n",
              "      border-color: transparent;\n",
              "      border-left-color: var(--fill-color);\n",
              "      border-top-color: var(--fill-color);\n",
              "      border-right-color: var(--fill-color);\n",
              "    }\n",
              "    40% {\n",
              "      border-color: transparent;\n",
              "      border-right-color: var(--fill-color);\n",
              "      border-top-color: var(--fill-color);\n",
              "    }\n",
              "    60% {\n",
              "      border-color: transparent;\n",
              "      border-right-color: var(--fill-color);\n",
              "    }\n",
              "    80% {\n",
              "      border-color: transparent;\n",
              "      border-right-color: var(--fill-color);\n",
              "      border-bottom-color: var(--fill-color);\n",
              "    }\n",
              "    90% {\n",
              "      border-color: transparent;\n",
              "      border-bottom-color: var(--fill-color);\n",
              "    }\n",
              "  }\n",
              "</style>\n",
              "\n",
              "  <script>\n",
              "    async function quickchart(key) {\n",
              "      const quickchartButtonEl =\n",
              "        document.querySelector('#' + key + ' button');\n",
              "      quickchartButtonEl.disabled = true;  // To prevent multiple clicks.\n",
              "      quickchartButtonEl.classList.add('colab-df-spinner');\n",
              "      try {\n",
              "        const charts = await google.colab.kernel.invokeFunction(\n",
              "            'suggestCharts', [key], {});\n",
              "      } catch (error) {\n",
              "        console.error('Error during call to suggestCharts:', error);\n",
              "      }\n",
              "      quickchartButtonEl.classList.remove('colab-df-spinner');\n",
              "      quickchartButtonEl.classList.add('colab-df-quickchart-complete');\n",
              "    }\n",
              "    (() => {\n",
              "      let quickchartButtonEl =\n",
              "        document.querySelector('#df-7295d6cc-02a5-41b1-a1d6-b213ed3a93bc button');\n",
              "      quickchartButtonEl.style.display =\n",
              "        google.colab.kernel.accessAllowed ? 'block' : 'none';\n",
              "    })();\n",
              "  </script>\n",
              "</div>\n",
              "\n",
              "    </div>\n",
              "  </div>\n"
            ]
          },
          "metadata": {},
          "execution_count": 80
        }
      ]
    },
    {
      "cell_type": "markdown",
      "source": [
        "**Finding all quartile values and IQR**"
      ],
      "metadata": {
        "id": "syOfQ_7qFWgV"
      }
    },
    {
      "cell_type": "code",
      "source": [
        "Q1 = df1['Model Year'].quantile(0.25)\n",
        "Q2 = df1['Model Year'].quantile(0.50)\n",
        "Q3 = df1['Model Year'].quantile(0.75)\n",
        "IQR = Q3 - Q1\n",
        "print(\"\\nFirst Quartile (Q1):\", Q1)\n",
        "print(\"\\nSecond Quartile (Q2):\" ,Q2)\n",
        "print(\"\\nThird Quartile (Q3):\" ,Q3)\n",
        "print(\"\\nInterquartile Range (IQR) for Model Year is :\", IQR)"
      ],
      "metadata": {
        "colab": {
          "base_uri": "https://localhost:8080/"
        },
        "id": "Ic606W1QDz_X",
        "outputId": "331007d3-d41a-4d19-aced-7fe5b05e5f88"
      },
      "execution_count": 81,
      "outputs": [
        {
          "output_type": "stream",
          "name": "stdout",
          "text": [
            "\n",
            "First Quartile (Q1): 2018.0\n",
            "\n",
            "Second Quartile (Q2): 2021.0\n",
            "\n",
            "Third Quartile (Q3): 2023.0\n",
            "\n",
            "Interquartile Range (IQR) for Model Year is : 5.0\n"
          ]
        }
      ]
    },
    {
      "cell_type": "markdown",
      "source": [
        "**First quartile is the median of 50% data and minimum value where as Third quartile is the median of maximum value and 50% data.and Second quartile is the median of minimum and maximum values.these quartiles divide data set into four parts**"
      ],
      "metadata": {
        "id": "FINaFQXhFeld"
      }
    },
    {
      "cell_type": "code",
      "source": [
        "plt.boxplot(df1['Model Year'],vert= False)\n",
        "plt.title('Boxplot of Model Year')\n",
        "plt.xlabel('Model Year')\n",
        "plt.show()\n"
      ],
      "metadata": {
        "colab": {
          "base_uri": "https://localhost:8080/",
          "height": 480
        },
        "id": "t4XRVqV7EEUP",
        "outputId": "64ad506e-e2bf-48fd-8835-d9de01b40f49"
      },
      "execution_count": 82,
      "outputs": [
        {
          "output_type": "display_data",
          "data": {
            "text/plain": [
              "<Figure size 640x480 with 1 Axes>"
            ],
            "image/png": "[encoded data removed]"
          },
          "metadata": {}
        }
      ]
    },
    {
      "cell_type": "markdown",
      "source": [
        "**In the above plot we are having otliers. the data points which are not in range of minimum and maximum values range. the length of whiskers at left side is more so it is skewed to left side ie. Negative skewed**"
      ],
      "metadata": {
        "id": "J2PAu4ynF3sB"
      }
    },
    {
      "cell_type": "code",
      "source": [
        "from scipy import stats\n",
        "skewness = stats.skew(df1['Model Year'])\n",
        "print(\"\\nSkewness:\", round(skewness,4))"
      ],
      "metadata": {
        "colab": {
          "base_uri": "https://localhost:8080/"
        },
        "id": "2ykV94PYEWDM",
        "outputId": "531b0dca-9a1c-4013-d546-166a8ade20b2"
      },
      "execution_count": 83,
      "outputs": [
        {
          "output_type": "stream",
          "name": "stdout",
          "text": [
            "\n",
            "Skewness: -1.0576\n"
          ]
        }
      ]
    },
    {
      "cell_type": "code",
      "source": [
        "sns.histplot(df1['Model Year'], kde=True, color='blue', bins=30)\n",
        "plt.xlabel('Model Year')\n",
        "plt.ylabel('Density')\n",
        "plt.title('Skewness Plot')\n",
        "\n",
        "plt.show()"
      ],
      "metadata": {
        "colab": {
          "base_uri": "https://localhost:8080/",
          "height": 480
        },
        "id": "enWejl4hEfwR",
        "outputId": "9ce5fe0b-b376-4f7b-e20a-b81197ee2ef5"
      },
      "execution_count": 84,
      "outputs": [
        {
          "output_type": "display_data",
          "data": {
            "text/plain": [
              "<Figure size 640x480 with 1 Axes>"
            ],
            "image/png": "[encoded data removed]"
          },
          "metadata": {}
        }
      ]
    },
    {
      "cell_type": "code",
      "source": [
        "kurtosis = stats.kurtosis(df1['Model Year'])\n",
        "print(\"Kurtosis:\", round(kurtosis,4))"
      ],
      "metadata": {
        "colab": {
          "base_uri": "https://localhost:8080/"
        },
        "id": "uRXbck2oEjHx",
        "outputId": "d5a5b7a5-3ae2-45b1-beed-cc02bf36efb1"
      },
      "execution_count": 85,
      "outputs": [
        {
          "output_type": "stream",
          "name": "stdout",
          "text": [
            "Kurtosis: 0.3951\n"
          ]
        }
      ]
    },
    {
      "cell_type": "markdown",
      "source": [
        "**positive Kurtosis means that it has peak than the normal distribution**"
      ],
      "metadata": {
        "id": "0hIaMoWOG3oV"
      }
    },
    {
      "cell_type": "code",
      "source": [
        "sns.histplot(df1['Model Year'], kde=True, color='blue', bins=30)\n",
        "\n",
        "xmin, xmax = plt.xlim()\n",
        "x = np.linspace(xmin, xmax, 100)\n",
        "y = stats.norm.pdf(x, np.mean(df1['Model Year']), np.std(df1['Model Year']))\n",
        "plt.plot(x, y * len(df1['Model Year']) * np.diff(np.unique(df1['Model Year']))[0], 'k',label='Normal Distribution')\n",
        "plt.title('Kurtosis Plot')\n",
        "plt.legend()\n",
        "plt.show()"
      ],
      "metadata": {
        "colab": {
          "base_uri": "https://localhost:8080/",
          "height": 480
        },
        "id": "oTdRIXb2ExX5",
        "outputId": "73758d4f-8776-455a-a46f-e72bde92cdc6"
      },
      "execution_count": 86,
      "outputs": [
        {
          "output_type": "display_data",
          "data": {
            "text/plain": [
              "<Figure size 640x480 with 1 Axes>"
            ],
            "image/png": "[encoded data removed]"
          },
          "metadata": {}
        }
      ]
    }
  ]
}